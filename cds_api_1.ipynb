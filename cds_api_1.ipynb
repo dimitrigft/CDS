{
 "cells": [
  {
   "cell_type": "code",
   "execution_count": null,
   "id": "e60bcb0f",
   "metadata": {},
   "outputs": [
    {
     "name": "stdout",
     "output_type": "stream",
     "text": [
      "\n",
      "=== Traitement : 2022-01 ===\n"
     ]
    },
    {
     "name": "stderr",
     "output_type": "stream",
     "text": [
      "2025-05-13 07:06:35,439 INFO [2024-09-26T00:00:00] Watch our [Forum](https://forum.ecmwf.int/) for Announcements, news and other discussed topics.\n",
      "2025-05-13 07:06:35,441 WARNING [2024-06-16T00:00:00] CDS API syntax is changed and some keys or parameter names may have also changed. To avoid requests failing, please use the \"Show API request code\" tool on the dataset Download Form to check you are using the correct syntax for your API request.\n",
      "2025-05-13 07:06:36,045 INFO Request ID is a4fc33cf-2644-4ecb-a050-1ed8eef40aa1\n",
      "2025-05-13 07:06:36,116 INFO status has been updated to accepted\n",
      "2025-05-13 07:07:52,007 INFO status has been updated to successful\n",
      "                                                                                         \r"
     ]
    },
    {
     "name": "stdout",
     "output_type": "stream",
     "text": [
      "📄 Variables NetCDF : ['number', 'valid_time', 'latitude', 'longitude', 'expver', 'u10', 'v10', 'u100', 'v100', 'u10n', 'v10n', 'i10fg']\n",
      "📦 Lecture : u10\n",
      "📦 Lecture : v10\n",
      "📦 Lecture : u100\n",
      "📦 Lecture : v100\n",
      "📦 Lecture : u10n\n",
      "📦 Lecture : v10n\n",
      "📦 Lecture : i10fg\n",
      "✅ Sauvegarde : ./csv_vent_mensuel\\vent_2022_01.csv\n",
      "\n",
      "=== Traitement : 2022-02 ===\n"
     ]
    },
    {
     "name": "stderr",
     "output_type": "stream",
     "text": [
      "2025-05-13 07:09:39,547 INFO [2024-09-26T00:00:00] Watch our [Forum](https://forum.ecmwf.int/) for Announcements, news and other discussed topics.\n",
      "2025-05-13 07:09:39,548 WARNING [2024-06-16T00:00:00] CDS API syntax is changed and some keys or parameter names may have also changed. To avoid requests failing, please use the \"Show API request code\" tool on the dataset Download Form to check you are using the correct syntax for your API request.\n",
      "2025-05-13 07:09:40,188 INFO Request ID is 01f918e0-467e-4e85-bf93-442374930d86\n",
      "2025-05-13 07:09:40,309 INFO status has been updated to accepted\n",
      "2025-05-13 07:10:56,165 INFO status has been updated to successful\n",
      "                                                                                         \r"
     ]
    },
    {
     "name": "stdout",
     "output_type": "stream",
     "text": [
      "📄 Variables NetCDF : ['number', 'valid_time', 'latitude', 'longitude', 'expver', 'u10', 'v10', 'u100', 'v100', 'u10n', 'v10n', 'i10fg']\n",
      "📦 Lecture : u10\n",
      "📦 Lecture : v10\n",
      "📦 Lecture : u100\n",
      "📦 Lecture : v100\n",
      "📦 Lecture : u10n\n",
      "📦 Lecture : v10n\n",
      "📦 Lecture : i10fg\n",
      "✅ Sauvegarde : ./csv_vent_mensuel\\vent_2022_02.csv\n"
     ]
    },
    {
     "name": "stderr",
     "output_type": "stream",
     "text": [
      "2025-05-13 07:12:51,466 INFO [2024-09-26T00:00:00] Watch our [Forum](https://forum.ecmwf.int/) for Announcements, news and other discussed topics.\n"
     ]
    },
    {
     "name": "stdout",
     "output_type": "stream",
     "text": [
      "\n",
      "=== Traitement : 2022-03 ===\n"
     ]
    },
    {
     "name": "stderr",
     "output_type": "stream",
     "text": [
      "2025-05-13 07:12:51,469 WARNING [2024-06-16T00:00:00] CDS API syntax is changed and some keys or parameter names may have also changed. To avoid requests failing, please use the \"Show API request code\" tool on the dataset Download Form to check you are using the correct syntax for your API request.\n",
      "2025-05-13 07:12:51,822 INFO Request ID is 5aab4417-d67a-4bb9-a539-47c1f4ddb89f\n",
      "2025-05-13 07:12:51,905 INFO status has been updated to accepted\n",
      "2025-05-13 07:13:05,446 INFO status has been updated to running\n",
      "2025-05-13 07:13:13,109 INFO status has been updated to successful\n",
      "                                                                                         \r"
     ]
    },
    {
     "name": "stdout",
     "output_type": "stream",
     "text": [
      "📄 Variables NetCDF : ['number', 'valid_time', 'latitude', 'longitude', 'expver', 'u10', 'v10', 'u100', 'v100', 'u10n', 'v10n', 'i10fg']\n",
      "📦 Lecture : u10\n",
      "📦 Lecture : v10\n",
      "📦 Lecture : u100\n",
      "📦 Lecture : v100\n",
      "📦 Lecture : u10n\n",
      "📦 Lecture : v10n\n",
      "📦 Lecture : i10fg\n",
      "✅ Sauvegarde : ./csv_vent_mensuel\\vent_2022_03.csv\n",
      "\n",
      "=== Traitement : 2022-04 ===\n"
     ]
    },
    {
     "name": "stderr",
     "output_type": "stream",
     "text": [
      "2025-05-13 07:16:05,690 INFO [2024-09-26T00:00:00] Watch our [Forum](https://forum.ecmwf.int/) for Announcements, news and other discussed topics.\n",
      "2025-05-13 07:16:05,693 WARNING [2024-06-16T00:00:00] CDS API syntax is changed and some keys or parameter names may have also changed. To avoid requests failing, please use the \"Show API request code\" tool on the dataset Download Form to check you are using the correct syntax for your API request.\n",
      "2025-05-13 07:16:06,319 INFO Request ID is 6fce8907-b0f1-4af8-a088-71fb86c54fcf\n",
      "2025-05-13 07:16:06,390 INFO status has been updated to accepted\n",
      "Recovering from connection error [('Connection aborted.', RemoteDisconnected('Remote end closed connection without response'))], attempt 1 of 500\n",
      "Retrying in 120 seconds\n",
      "2025-05-13 07:34:17,927 INFO status has been updated to successful\n",
      "                                                                                         \r"
     ]
    },
    {
     "name": "stdout",
     "output_type": "stream",
     "text": [
      "📄 Variables NetCDF : ['number', 'valid_time', 'latitude', 'longitude', 'expver', 'u10', 'v10', 'u100', 'v100', 'u10n', 'v10n', 'i10fg']\n",
      "📦 Lecture : u10\n",
      "📦 Lecture : v10\n",
      "📦 Lecture : u100\n",
      "📦 Lecture : v100\n",
      "📦 Lecture : u10n\n",
      "📦 Lecture : v10n\n",
      "📦 Lecture : i10fg\n",
      "✅ Sauvegarde : ./csv_vent_mensuel\\vent_2022_04.csv\n"
     ]
    },
    {
     "name": "stderr",
     "output_type": "stream",
     "text": [
      "2025-05-13 07:35:58,778 INFO [2024-09-26T00:00:00] Watch our [Forum](https://forum.ecmwf.int/) for Announcements, news and other discussed topics.\n",
      "2025-05-13 07:35:58,780 WARNING [2024-06-16T00:00:00] CDS API syntax is changed and some keys or parameter names may have also changed. To avoid requests failing, please use the \"Show API request code\" tool on the dataset Download Form to check you are using the correct syntax for your API request.\n"
     ]
    },
    {
     "name": "stdout",
     "output_type": "stream",
     "text": [
      "\n",
      "=== Traitement : 2022-05 ===\n"
     ]
    },
    {
     "name": "stderr",
     "output_type": "stream",
     "text": [
      "2025-05-13 07:35:59,468 INFO Request ID is 3619ae20-8ad2-4d24-b312-7a4a208e6fb8\n",
      "2025-05-13 07:35:59,541 INFO status has been updated to accepted\n",
      "Recovering from connection error [('Connection aborted.', RemoteDisconnected('Remote end closed connection without response'))], attempt 1 of 500\n",
      "Retrying in 120 seconds\n",
      "2025-05-13 07:42:36,867 INFO status has been updated to successful\n",
      "                                                                                         \r"
     ]
    },
    {
     "name": "stdout",
     "output_type": "stream",
     "text": [
      "📄 Variables NetCDF : ['number', 'valid_time', 'latitude', 'longitude', 'expver', 'u10', 'v10', 'u100', 'v100', 'u10n', 'v10n', 'i10fg']\n",
      "📦 Lecture : u10\n",
      "📦 Lecture : v10\n",
      "📦 Lecture : u100\n",
      "📦 Lecture : v100\n",
      "📦 Lecture : u10n\n",
      "📦 Lecture : v10n\n",
      "📦 Lecture : i10fg\n",
      "✅ Sauvegarde : ./csv_vent_mensuel\\vent_2022_05.csv\n"
     ]
    },
    {
     "name": "stderr",
     "output_type": "stream",
     "text": [
      "2025-05-13 07:44:25,736 INFO [2024-09-26T00:00:00] Watch our [Forum](https://forum.ecmwf.int/) for Announcements, news and other discussed topics.\n",
      "2025-05-13 07:44:25,737 WARNING [2024-06-16T00:00:00] CDS API syntax is changed and some keys or parameter names may have also changed. To avoid requests failing, please use the \"Show API request code\" tool on the dataset Download Form to check you are using the correct syntax for your API request.\n"
     ]
    },
    {
     "name": "stdout",
     "output_type": "stream",
     "text": [
      "\n",
      "=== Traitement : 2022-06 ===\n"
     ]
    },
    {
     "name": "stderr",
     "output_type": "stream",
     "text": [
      "2025-05-13 07:44:26,224 INFO Request ID is d9b5f891-4797-48c5-b150-1d7326d520cb\n",
      "2025-05-13 07:44:26,303 INFO status has been updated to accepted\n",
      "2025-05-13 07:44:58,983 INFO status has been updated to running\n",
      "2025-05-13 07:45:16,121 INFO status has been updated to successful\n",
      "                                                                                         \r"
     ]
    },
    {
     "name": "stdout",
     "output_type": "stream",
     "text": [
      "📄 Variables NetCDF : ['number', 'valid_time', 'latitude', 'longitude', 'expver', 'u10', 'v10', 'u100', 'v100', 'u10n', 'v10n', 'i10fg']\n",
      "📦 Lecture : u10\n",
      "📦 Lecture : v10\n",
      "📦 Lecture : u100\n",
      "📦 Lecture : v100\n",
      "📦 Lecture : u10n\n",
      "📦 Lecture : v10n\n",
      "📦 Lecture : i10fg\n",
      "✅ Sauvegarde : ./csv_vent_mensuel\\vent_2022_06.csv\n",
      "\n",
      "=== Traitement : 2022-07 ===\n"
     ]
    },
    {
     "name": "stderr",
     "output_type": "stream",
     "text": [
      "2025-05-13 08:03:28,815 INFO [2024-09-26T00:00:00] Watch our [Forum](https://forum.ecmwf.int/) for Announcements, news and other discussed topics.\n",
      "2025-05-13 08:03:28,817 WARNING [2024-06-16T00:00:00] CDS API syntax is changed and some keys or parameter names may have also changed. To avoid requests failing, please use the \"Show API request code\" tool on the dataset Download Form to check you are using the correct syntax for your API request.\n",
      "2025-05-13 08:03:29,439 INFO Request ID is 8d15a92e-6654-4141-a649-f5993b4e92ac\n",
      "2025-05-13 08:03:29,914 INFO status has been updated to accepted\n",
      "2025-05-13 08:04:07,856 INFO status has been updated to successful\n",
      "                                                                                        \r"
     ]
    },
    {
     "name": "stdout",
     "output_type": "stream",
     "text": [
      "📄 Variables NetCDF : ['number', 'valid_time', 'latitude', 'longitude', 'expver', 'u10', 'v10', 'u100', 'v100', 'u10n', 'v10n', 'i10fg']\n",
      "📦 Lecture : u10\n",
      "📦 Lecture : v10\n",
      "📦 Lecture : u100\n",
      "📦 Lecture : v100\n",
      "📦 Lecture : u10n\n",
      "📦 Lecture : v10n\n",
      "📦 Lecture : i10fg\n",
      "✅ Sauvegarde : ./csv_vent_mensuel\\vent_2022_07.csv\n"
     ]
    },
    {
     "name": "stderr",
     "output_type": "stream",
     "text": [
      "Recovering from connection error [HTTPSConnectionPool(host='cds.climate.copernicus.eu', port=443): Max retries exceeded with url: /api/catalogue/v1/messages (Caused by NameResolutionError(\"<urllib3.connection.HTTPSConnection object at 0x00000220E812FA50>: Failed to resolve 'cds.climate.copernicus.eu' ([Errno 11001] getaddrinfo failed)\"))], attempt 1 of 500\n",
      "Retrying in 120 seconds\n"
     ]
    },
    {
     "name": "stdout",
     "output_type": "stream",
     "text": [
      "\n",
      "=== Traitement : 2022-08 ===\n"
     ]
    },
    {
     "name": "stderr",
     "output_type": "stream",
     "text": [
      "Recovering from connection error [HTTPSConnectionPool(host='cds.climate.copernicus.eu', port=443): Max retries exceeded with url: /api/catalogue/v1/messages (Caused by NameResolutionError(\"<urllib3.connection.HTTPSConnection object at 0x00000220E812C990>: Failed to resolve 'cds.climate.copernicus.eu' ([Errno 11001] getaddrinfo failed)\"))], attempt 2 of 500\n",
      "Retrying in 120 seconds\n",
      "Recovering from connection error [HTTPSConnectionPool(host='cds.climate.copernicus.eu', port=443): Max retries exceeded with url: /api/catalogue/v1/messages (Caused by NameResolutionError(\"<urllib3.connection.HTTPSConnection object at 0x00000220E812DED0>: Failed to resolve 'cds.climate.copernicus.eu' ([Errno 11001] getaddrinfo failed)\"))], attempt 3 of 500\n",
      "Retrying in 120 seconds\n",
      "Recovering from connection error [HTTPSConnectionPool(host='cds.climate.copernicus.eu', port=443): Max retries exceeded with url: /api/catalogue/v1/messages (Caused by NameResolutionError(\"<urllib3.connection.HTTPSConnection object at 0x00000220DE918B50>: Failed to resolve 'cds.climate.copernicus.eu' ([Errno 11001] getaddrinfo failed)\"))], attempt 4 of 500\n",
      "Retrying in 120 seconds\n",
      "Recovering from connection error [HTTPSConnectionPool(host='cds.climate.copernicus.eu', port=443): Max retries exceeded with url: /api/catalogue/v1/messages (Caused by NameResolutionError(\"<urllib3.connection.HTTPSConnection object at 0x00000220DE9183D0>: Failed to resolve 'cds.climate.copernicus.eu' ([Errno 11001] getaddrinfo failed)\"))], attempt 5 of 500\n",
      "Retrying in 120 seconds\n"
     ]
    }
   ],
   "source": [
    "#!/usr/bin/python3\n",
    "\n",
    "import cdsapi\n",
    "import netCDF4\n",
    "from netCDF4 import num2date\n",
    "import numpy as np\n",
    "import pandas as pd\n",
    "import os\n",
    "import time\n",
    "\n",
    "def telecharger_et_sauver_mensuel_era5(annee, mois, output_dir=\"./csv_vent_mensuel\", pause_sec=60):\n",
    "    print(f\"\\n=== Traitement : {annee}-{mois:02d} ===\")\n",
    "    output_csv = os.path.join(output_dir, f\"vent_{annee}_{mois:02d}.csv\")\n",
    "\n",
    "    # Sauter si déjà traité\n",
    "    if os.path.exists(output_csv):\n",
    "        print(f\"⏭️ Déjà existant, on saute : {output_csv}\")\n",
    "        return\n",
    "\n",
    "    nc_path = f\"vent_era5_{annee}_{mois:02d}.nc\"\n",
    "    client = cdsapi.Client()\n",
    "\n",
    "    try:\n",
    "        client.retrieve(\n",
    "            'reanalysis-era5-single-levels',\n",
    "            {\n",
    "                \"product_type\": \"reanalysis\",\n",
    "                \"variable\": [\n",
    "                    \"10m_u_component_of_wind\",\n",
    "                    \"10m_v_component_of_wind\",\n",
    "                    \"100m_u_component_of_wind\",\n",
    "                    \"100m_v_component_of_wind\",\n",
    "                    \"10m_u_component_of_neutral_wind\",\n",
    "                    \"10m_v_component_of_neutral_wind\",\n",
    "                    \"instantaneous_10m_wind_gust\"\n",
    "                ],\n",
    "                \"year\": str(annee),\n",
    "                \"month\": f\"{mois:02d}\",\n",
    "                \"day\": [f\"{d:02d}\" for d in range(1, 32)],\n",
    "                \"time\": [f\"{h:02d}:00\" for h in range(24)],\n",
    "                \"format\": \"netcdf\",\n",
    "                \"area\": [51.5, -5.5, 41.0, 9.5]  # France métropolitaine\n",
    "            },\n",
    "            nc_path\n",
    "        )\n",
    "    except Exception as e:\n",
    "        print(f\"❌ Erreur de téléchargement {annee}-{mois:02d} : {e}\")\n",
    "        return\n",
    "\n",
    "    # Lecture NetCDF directement\n",
    "    try:\n",
    "        f = netCDF4.Dataset(nc_path)\n",
    "    except Exception as e:\n",
    "        print(f\"❌ Erreur d'ouverture du fichier .nc : {e}\")\n",
    "        return\n",
    "\n",
    "    print(\"📄 Variables NetCDF :\", list(f.variables.keys()))\n",
    "\n",
    "    try:\n",
    "        time_var_name = [k for k in f.variables if 'time' in k.lower()][0]\n",
    "    except IndexError:\n",
    "        raise KeyError(\"❌ Aucune variable temporelle détectée dans le NetCDF.\")\n",
    "\n",
    "    times = num2date(f.variables[time_var_name][:], f.variables[time_var_name].units)\n",
    "    latitudes = f.variables['latitude'][:]\n",
    "    longitudes = f.variables['longitude'][:]\n",
    "\n",
    "    # Construction DataFrame de base\n",
    "    times_grid, lat_grid, lon_grid = np.meshgrid(times, latitudes, longitudes, indexing='ij')\n",
    "    df = pd.DataFrame({\n",
    "        'time': [t.isoformat() for t in times_grid.flatten()],\n",
    "        'latitude': lat_grid.flatten(),\n",
    "        'longitude': lon_grid.flatten()\n",
    "    })\n",
    "\n",
    "    # Lecture des variables météo\n",
    "    variables = {\n",
    "        \"u10\": \"u10\", \"v10\": \"v10\",\n",
    "        \"u100\": \"u100\", \"v100\": \"v100\",\n",
    "        \"u10n\": \"u10n\", \"v10n\": \"v10n\",\n",
    "        \"gust\": \"i10fg\"\n",
    "    }\n",
    "\n",
    "    data_arrays = {}\n",
    "    for short, var in variables.items():\n",
    "        if var in f.variables:\n",
    "            print(f\"📦 Lecture : {var}\")\n",
    "            data = f.variables[var][:]\n",
    "            df[short] = data.flatten()\n",
    "            data_arrays[short] = data\n",
    "        else:\n",
    "            print(f\"⚠️ Variable absente : {var}\")\n",
    "\n",
    "    # Calcul des vitesses du vent\n",
    "    def wind_speed(u, v):\n",
    "        return np.sqrt(u**2 + v**2)\n",
    "\n",
    "    if \"u10\" in data_arrays and \"v10\" in data_arrays:\n",
    "        df[\"wind_speed_10m\"] = wind_speed(data_arrays[\"u10\"], data_arrays[\"v10\"]).flatten()\n",
    "    if \"u100\" in data_arrays and \"v100\" in data_arrays:\n",
    "        df[\"wind_speed_100m\"] = wind_speed(data_arrays[\"u100\"], data_arrays[\"v100\"]).flatten()\n",
    "    if \"u10n\" in data_arrays and \"v10n\" in data_arrays:\n",
    "        df[\"wind_speed_10m_neutral\"] = wind_speed(data_arrays[\"u10n\"], data_arrays[\"v10n\"]).flatten()\n",
    "\n",
    "    # Sauvegarde du fichier CSV\n",
    "    os.makedirs(output_dir, exist_ok=True)\n",
    "    df.to_csv(output_csv, index=False)\n",
    "    print(f\"✅ Sauvegarde : {output_csv}\")\n",
    "\n",
    "    # Pause pour ne pas surcharger l'API\n",
    "    time.sleep(pause_sec)\n",
    "\n",
    "\n",
    "# === Boucle 2022 à 2025 ===\n",
    "for annee in range(2022, 2026):\n",
    "    for mois in range(1, 13):\n",
    "        try:\n",
    "            telecharger_et_sauver_mensuel_era5(annee, mois)\n",
    "        except Exception as e:\n",
    "            print(f\"❌ Problème {annee}-{mois:02d} : {e}\")\n"
   ]
  }
 ],
 "metadata": {
  "kernelspec": {
   "display_name": "Python 3",
   "language": "python",
   "name": "python3"
  },
  "language_info": {
   "codemirror_mode": {
    "name": "ipython",
    "version": 3
   },
   "file_extension": ".py",
   "mimetype": "text/x-python",
   "name": "python",
   "nbconvert_exporter": "python",
   "pygments_lexer": "ipython3",
   "version": "3.11.1"
  }
 },
 "nbformat": 4,
 "nbformat_minor": 5
}
